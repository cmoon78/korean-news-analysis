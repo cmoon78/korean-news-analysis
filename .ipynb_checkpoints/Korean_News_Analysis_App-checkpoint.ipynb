{
 "cells": [
  {
   "cell_type": "code",
   "execution_count": 1,
   "id": "8f13aeec",
   "metadata": {},
   "outputs": [
    {
     "ename": "SyntaxError",
     "evalue": "EOF while scanning triple-quoted string literal (3418176734.py, line 126)",
     "output_type": "error",
     "traceback": [
      "\u001b[1;36m  File \u001b[1;32m\"C:\\Users\\colos\\AppData\\Local\\Temp\\ipykernel_10556\\3418176734.py\"\u001b[1;36m, line \u001b[1;32m126\u001b[0m\n\u001b[1;33m    f.write(flask_app_code)\u001b[0m\n\u001b[1;37m                           \n^\u001b[0m\n\u001b[1;31mSyntaxError\u001b[0m\u001b[1;31m:\u001b[0m EOF while scanning triple-quoted string literal\n"
     ]
    }
   ],
   "source": []
  },
  {
   "cell_type": "code",
   "execution_count": 2,
   "id": "9b8136ea",
   "metadata": {},
   "outputs": [],
   "source": []
  },
  {
   "cell_type": "code",
   "execution_count": 3,
   "id": "968410ff",
   "metadata": {},
   "outputs": [
    {
     "name": "stderr",
     "output_type": "stream",
     "text": [
      "Traceback (most recent call last):\n",
      "  File \"C:\\Users\\colos\\Desktop\\Korean News Analysis\\app.py\", line 4, in <module>\n",
      "    from wordcloud import WordCloud\n",
      "ModuleNotFoundError: No module named 'wordcloud'\n"
     ]
    }
   ],
   "source": []
  },
  {
   "cell_type": "code",
   "execution_count": 4,
   "id": "6fff5c57",
   "metadata": {},
   "outputs": [
    {
     "ename": "SyntaxError",
     "evalue": "EOF while scanning triple-quoted string literal (3418176734.py, line 126)",
     "output_type": "error",
     "traceback": [
      "\u001b[1;36m  File \u001b[1;32m\"C:\\Users\\colos\\AppData\\Local\\Temp\\ipykernel_10556\\3418176734.py\"\u001b[1;36m, line \u001b[1;32m126\u001b[0m\n\u001b[1;33m    f.write(flask_app_code)\u001b[0m\n\u001b[1;37m                           \n^\u001b[0m\n\u001b[1;31mSyntaxError\u001b[0m\u001b[1;31m:\u001b[0m EOF while scanning triple-quoted string literal\n"
     ]
    }
   ],
   "source": [
    "flask_app_code = \"\"\"\n",
    "import pandas as pd\n",
    "from flask import Flask, request, render_template_string\n",
    "import matplotlib.pyplot as plt\n",
    "from wordcloud import WordCloud\n",
    "import networkx as nx\n",
    "import os\n",
    "from collections import Counter\n",
    "from konlpy.tag import Okt\n",
    "\n",
    "app = Flask(__name__)\n",
    "\n",
    "@app.route('/')\n",
    "def index():\n",
    "    return render_template_string('''\n",
    "        <!DOCTYPE html>\n",
    "        <html>\n",
    "        <head>\n",
    "            <title>News Analysis App</title>\n",
    "        </head>\n",
    "        <body>\n",
    "            <h1>Welcome to the News Analysis App</h1>\n",
    "            <form action=\"/upload\" method=\"post\" enctype=\"multipart/form-data\">\n",
    "                <label for=\"file\">Please upload a file you wish to analyze:</label>\n",
    "                <input type=\"file\" name=\"file\" id=\"file\">\n",
    "                <br><br>\n",
    "                <label for=\"report_type\">Do you want to export a report file? In which type of file?</label>\n",
    "                <select name=\"report_type\" id=\"report_type\">\n",
    "                    <option value=\"csv\">CSV</option>\n",
    "                    <option value=\"excel\">Excel</option>\n",
    "                </select>\n",
    "                <br><br>\n",
    "                <input type=\"submit\" value=\"Upload\">\n",
    "            </form>\n",
    "        </body>\n",
    "        </html>\n",
    "    ''')\n",
    "\n",
    "@app.route('/upload', methods=['POST'])\n",
    "def upload_file():\n",
    "    file = request.files['file']\n",
    "    report_type = request.form['report_type']\n",
    "    df = pd.read_csv(file)\n",
    "    create_news_volume_graph(df)\n",
    "    create_word_cloud(df)\n",
    "    create_network_graph(df)\n",
    "    create_keyword_summary(df)\n",
    "    return render_template_string('''\n",
    "        <!DOCTYPE html>\n",
    "        <html>\n",
    "        <head>\n",
    "            <title>News Analysis Report</title>\n",
    "        </head>\n",
    "        <body>\n",
    "            <h1>News Analysis Report</h1>\n",
    "            <img src=\"/static/news_volume.png\" alt=\"News Volume Graph\">\n",
    "            <img src=\"/static/word_cloud.png\" alt=\"Word Cloud\">\n",
    "            <img src=\"/static/network_graph.png\" alt=\"Network Graph\">\n",
    "            <pre>{{ keyword_summary }}</pre>\n",
    "            <p>Report type: {{ report_type }}</p>\n",
    "        </body>\n",
    "        </html>\n",
    "    ''', report_type=report_type, keyword_summary=open('static/keyword_summary.txt').read())\n",
    "\n",
    "def create_news_volume_graph(df):\n",
    "    df['pub_date'] = pd.to_datetime(df['pub_date'])\n",
    "    news_volume = df['pub_date'].dt.to_period('M').value_counts().sort_index()\n",
    "    \n",
    "    plt.figure(figsize=(10, 5))\n",
    "    news_volume.plot(kind='bar')\n",
    "    plt.title('News Volume Over Time')\n",
    "    plt.xlabel('Date')\n",
    "    plt.ylabel('News Volume')\n",
    "    plt.tight_layout()\n",
    "    os.makedirs('static', exist_ok=True)\n",
    "    plt.savefig('static/news_volume.png')\n",
    "    plt.close()\n",
    "\n",
    "def create_word_cloud(df):\n",
    "    text = ' '.join(df['description'].dropna().tolist())\n",
    "    wordcloud = WordCloud(width=800, height=400, background_color='white').generate(text)\n",
    "    \n",
    "    plt.figure(figsize=(10, 5))\n",
    "    plt.imshow(wordcloud, interpolation='bilinear')\n",
    "    plt.axis('off')\n",
    "    plt.tight_layout()\n",
    "    os.makedirs('static', exist_ok=True)\n",
    "    plt.savefig('static/word_cloud.png')\n",
    "    plt.close()\n",
    "\n",
    "def create_network_graph(df):\n",
    "    G = nx.Graph()\n",
    "    top_categories = df['category1'].value_counts().head(10).index\n",
    "    filtered_df = df[df['category1'].isin(top_categories)]\n",
    "    \n",
    "    for _, row in filtered_df.iterrows():\n",
    "        G.add_node(row['category1'], bipartite=0)\n",
    "        G.add_node(row['source_name'], bipartite=1)\n",
    "        G.add_edge(row['category1'], row['source_name'])\n",
    "\n",
    "    pos = nx.spring_layout(G)\n",
    "    plt.figure(figsize=(10, 10))\n",
    "    nx.draw(G, pos, with_labels=True, node_color=['skyblue' if node in top_categories else 'lightgreen' for node in G.nodes()])\n",
    "    plt.title('News Network Graph')\n",
    "    os.makedirs('static', exist_ok=True)\n",
    "    plt.savefig('static/network_graph.png')\n",
    "    plt.close()\n",
    "\n",
    "def create_keyword_summary(df):\n",
    "    okt = Okt()\n",
    "    text = ' '.join(df['description'].dropna().tolist())\n",
    "    words = okt.nouns(text)\n",
    "    counter = Counter(words)\n",
    "    top_keywords = counter.most_common(10)\n",
    "\n",
    "    summary = \"Top 10 Keywords:\\n\" + \"\\n\".join([f\"{word}: {count}\" for word, count in top_keywords])\n",
    "    os.makedirs('static', exist_ok=True)\n",
    "    with open('static/keyword_summary.txt', 'w') as f:\n",
    "        f.write(summary)\n",
    "\n",
    "if __name__ == '__main__':\n",
    "    app.run()\n",
    "\"\"\"\n",
    "\n",
    "with open('app.py', 'w') as f:\n",
    "    f.write(flask_app_code)\n"
   ]
  },
  {
   "cell_type": "code",
   "execution_count": null,
   "id": "07589ae7",
   "metadata": {},
   "outputs": [],
   "source": [
    "# Run the Flask app\n",
    "get_ipython().system('python app.py')"
   ]
  },
  {
   "cell_type": "code",
   "execution_count": null,
   "id": "8951761f",
   "metadata": {},
   "outputs": [],
   "source": []
  }
 ],
 "metadata": {
  "kernelspec": {
   "display_name": "Python 3 (ipykernel)",
   "language": "python",
   "name": "python3"
  },
  "language_info": {
   "codemirror_mode": {
    "name": "ipython",
    "version": 3
   },
   "file_extension": ".py",
   "mimetype": "text/x-python",
   "name": "python",
   "nbconvert_exporter": "python",
   "pygments_lexer": "ipython3",
   "version": "3.9.13"
  }
 },
 "nbformat": 4,
 "nbformat_minor": 5
}
